{
 "cells": [
  {
   "cell_type": "code",
   "execution_count": 19,
   "metadata": {},
   "outputs": [
    {
     "name": "stdout",
     "output_type": "stream",
     "text": [
      "Средняя температура в странах:\n",
      "Russia  -  32.3 C\n",
      "USA  -  30.6 C\n",
      "Thailand  -  14.9 C\n"
     ]
    }
   ],
   "source": [
    "countries_temperature = ['Russia',[75,70,65,80],'USA',[77,78,56,67],'Thailand',[65,35,45,20]]\n",
    "i = 0\n",
    "print('Средняя температура в странах:')\n",
    "while i < len(countries_temperature):\n",
    "    print(countries_temperature[i],' - ','%.1f' % ((sum(countries_temperature[i+1])/1.8 - 32)/len(countries_temperature[i+1])), 'C')\n",
    "    i += 2"
   ]
  }
 ],
 "metadata": {
  "kernelspec": {
   "display_name": "Python 3",
   "language": "python",
   "name": "python3"
  },
  "language_info": {
   "codemirror_mode": {
    "name": "ipython",
    "version": 3
   },
   "file_extension": ".py",
   "mimetype": "text/x-python",
   "name": "python",
   "nbconvert_exporter": "python",
   "pygments_lexer": "ipython3",
   "version": "3.8.3"
  }
 },
 "nbformat": 4,
 "nbformat_minor": 4
}
