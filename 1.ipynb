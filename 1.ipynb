{
 "cells": [
  {
   "cell_type": "code",
   "execution_count": 11,
   "metadata": {},
   "outputs": [
    {
     "name": "stdout",
     "output_type": "stream",
     "text": [
      "введит слово: abcdefg\n",
      "['d']\n"
     ]
    }
   ],
   "source": [
    "word = input('введит слово: ')\n",
    "list_word = list(word)\n",
    "if (len(list_word)%2 == 0):\n",
    "    while len(list_word) > 2:\n",
    "        del(list_word[0])\n",
    "        del(list_word[-1])\n",
    "else:\n",
    "    while len(list_word) > 1:\n",
    "        del(list_word[0])\n",
    "        del(list_word[-1])\n",
    "print(list_word)"
   ]
  },
  {
   "cell_type": "code",
   "execution_count": null,
   "metadata": {},
   "outputs": [],
   "source": []
  }
 ],
 "metadata": {
  "kernelspec": {
   "display_name": "Python 3",
   "language": "python",
   "name": "python3"
  },
  "language_info": {
   "codemirror_mode": {
    "name": "ipython",
    "version": 3
   },
   "file_extension": ".py",
   "mimetype": "text/x-python",
   "name": "python",
   "nbconvert_exporter": "python",
   "pygments_lexer": "ipython3",
   "version": "3.8.3"
  }
 },
 "nbformat": 4,
 "nbformat_minor": 4
}
