{
 "cells": [
  {
   "cell_type": "code",
   "execution_count": 4,
   "metadata": {},
   "outputs": [
    {
     "name": "stdout",
     "output_type": "stream",
     "text": [
      "идеальные пары:\n",
      "ann и adam\n",
      "betty и james\n",
      "liza и john\n"
     ]
    }
   ],
   "source": [
    "list1 = ['Liza', 'Ann', 'Rose', 'Betty']\n",
    "list2 = ['Adam', 'James', 'John']\n",
    "list1.sort()\n",
    "list2.sort()\n",
    "if len(list1) != len(list2):\n",
    "    i = min(len(list1),len(list2))\n",
    "else:\n",
    "    i = len(list1)\n",
    "a = 0\n",
    "print('идеальные пары:')\n",
    "while a < i:\n",
    "    print(list1[a],'и',list2[a])\n",
    "    a += 1"
   ]
  },
  {
   "cell_type": "code",
   "execution_count": null,
   "metadata": {},
   "outputs": [],
   "source": []
  }
 ],
 "metadata": {
  "kernelspec": {
   "display_name": "Python 3",
   "language": "python",
   "name": "python3"
  },
  "language_info": {
   "codemirror_mode": {
    "name": "ipython",
    "version": 3
   },
   "file_extension": ".py",
   "mimetype": "text/x-python",
   "name": "python",
   "nbconvert_exporter": "python",
   "pygments_lexer": "ipython3",
   "version": "3.8.3"
  }
 },
 "nbformat": 4,
 "nbformat_minor": 4
}
